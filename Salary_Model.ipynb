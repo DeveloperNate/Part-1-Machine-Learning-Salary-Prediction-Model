{
 "cells": [
  {
   "cell_type": "markdown",
   "metadata": {},
   "source": [
    "<h1>Introduction</h1>"
   ]
  },
  {
   "cell_type": "markdown",
   "metadata": {},
   "source": [
    "The adult dataset is from the 1994 Census database. Details of this dataset can be found at UCI Machine Learning Repository. My main aim is to create a simple GUI, so that users can input their own data and get a prediction of whether their income will exceed $50,000.\n",
    "The objectives that I will follow to complete my main aim are set out below :\n",
    "+ Clean the data - Replace or delete missing data, \n",
    "+ Explore the data - delete any unnecessary fields and reduce the variance of individual features \n",
    "+ Normalise the data - convert the needed data for modelling \n",
    "+ Explore the machine learning algorithms \n",
    "+ Optimise the selected machine learning algorithm \n",
    "+ Create the GUI "
   ]
  },
  {
   "cell_type": "markdown",
   "metadata": {},
   "source": [
    "<h1>Cleaning the Data</h1>"
   ]
  },
  {
   "cell_type": "markdown",
   "metadata": {},
   "source": [
    "To examine the data and prepare it for fitting in a chosen machine learning algorithm, Pandas was selected.    "
   ]
  },
  {
   "cell_type": "code",
   "execution_count": 3,
   "metadata": {},
   "outputs": [],
   "source": [
    "import pandas as pd"
   ]
  },
  {
   "cell_type": "markdown",
   "metadata": {},
   "source": [
    "The file was opened using Pandas and a quick assesmment of the dataframe was performed. "
   ]
  },
  {
   "cell_type": "code",
   "execution_count": 4,
   "metadata": {},
   "outputs": [
    {
     "name": "stdout",
     "output_type": "stream",
     "text": [
      "<class 'pandas.core.frame.DataFrame'>\n",
      "RangeIndex: 32561 entries, 0 to 32560\n",
      "Data columns (total 15 columns):\n",
      "age               32561 non-null int64\n",
      "workclass         32561 non-null object\n",
      "fnlwgt            32561 non-null int64\n",
      "education         32561 non-null object\n",
      "education-num     32561 non-null int64\n",
      "marital-status    32561 non-null object\n",
      "occupation        32561 non-null object\n",
      "relationship      32561 non-null object\n",
      "race              32561 non-null object\n",
      "sex               32561 non-null object\n",
      "capital-gain      32561 non-null int64\n",
      "capital-loss      32561 non-null int64\n",
      "hours-per-week    32561 non-null int64\n",
      "native-country    32561 non-null object\n",
      "label             32561 non-null object\n",
      "dtypes: int64(6), object(9)\n",
      "memory usage: 3.7+ MB\n",
      "None\n"
     ]
    }
   ],
   "source": [
    "df = pd.read_csv(r\"C:\\Users\\NJGaj\\port\\Scikit-Learn\\K Nearest Neighbors\\Salary\\Salary.txt\",index_col=False,\n",
    "                names = [ \"age\" ,\"workclass\", \"fnlwgt\",\"education\",\"education-num\",\"marital-status\",\"occupation\",\n",
    "                         \"relationship\",\"race\",\"sex\",\"capital-gain\",\"capital-loss\",\"hours-per-week\",\"native-country\"\n",
    "                        ,\"label\"])\n",
    "\n",
    "print(df.info())"
   ]
  },
  {
   "cell_type": "markdown",
   "metadata": {},
   "source": [
    "From the information collected on the dataframe, we know that there are 14 features that could be used for predicting the label column. However, from the original 15 columns, 2 columns are not self-explanatory. \n",
    "Both fnlwgt and education-num does not have an obvious correlation to the salary. After further examining the information on the dataset, fnlwgt is a weight on the sample and education-num is a repetitive column repeating the information in the education columns.\n",
    "It was decided that both columns would be dropped from the dataframe."
   ]
  },
  {
   "cell_type": "code",
   "execution_count": 5,
   "metadata": {},
   "outputs": [],
   "source": [
    "df = df.drop([\"fnlwgt\",\"education-num\"],1)"
   ]
  },
  {
   "cell_type": "markdown",
   "metadata": {},
   "source": [
    "From the information file on the dataset, we know that all missing data was represented as  \"?\". \n",
    "\n",
    " All missing data was changed to the numpy form \"NaN\", which meant that the numpy library had to be imported."
   ]
  },
  {
   "cell_type": "code",
   "execution_count": 6,
   "metadata": {},
   "outputs": [],
   "source": [
    "import numpy as np\n",
    "df = df.replace(\" ?\", np.NaN)"
   ]
  },
  {
   "cell_type": "markdown",
   "metadata": {},
   "source": [
    "A report on the missing data was then produced"
   ]
  },
  {
   "cell_type": "code",
   "execution_count": 7,
   "metadata": {},
   "outputs": [
    {
     "name": "stdout",
     "output_type": "stream",
     "text": [
      "age                  0\n",
      "workclass         1836\n",
      "education            0\n",
      "marital-status       0\n",
      "occupation        1843\n",
      "relationship         0\n",
      "race                 0\n",
      "sex                  0\n",
      "capital-gain         0\n",
      "capital-loss         0\n",
      "hours-per-week       0\n",
      "native-country     583\n",
      "label                0\n",
      "dtype: int64\n"
     ]
    }
   ],
   "source": [
    "print(df.isnull().sum())"
   ]
  },
  {
   "cell_type": "markdown",
   "metadata": {},
   "source": [
    "More information was gathered to find out how much data would be lost if we deleted all the missing data."
   ]
  },
  {
   "cell_type": "code",
   "execution_count": 8,
   "metadata": {},
   "outputs": [
    {
     "name": "stdout",
     "output_type": "stream",
     "text": [
      "################\n",
      "Total records that would be lost if deleted : \n",
      "2399\n"
     ]
    }
   ],
   "source": [
    "new_df = df.dropna()\n",
    "print(\"################\")\n",
    "print(\"Total records that would be lost if deleted : \")\n",
    "print(df.shape[0]- new_df.shape[0])\n",
    "del new_df"
   ]
  },
  {
   "cell_type": "markdown",
   "metadata": {},
   "source": [
    "Although we would lose only 2399 records out of 32561, further exploration of the data could result in a reduction in the loss of data."
   ]
  },
  {
   "cell_type": "markdown",
   "metadata": {},
   "source": [
    "<h1> Exploring the data </h1>"
   ]
  },
  {
   "cell_type": "markdown",
   "metadata": {},
   "source": [
    "From the 3 columns, where we would be losing the data, a graph was created showing the distribution of the data.Matplotlib was chosen to plot the graph."
   ]
  },
  {
   "cell_type": "code",
   "execution_count": 9,
   "metadata": {},
   "outputs": [
    {
     "name": "stdout",
     "output_type": "stream",
     "text": [
      "United-States total percentage :91.218963037088 %\n"
     ]
    }
   ],
   "source": [
    "import matplotlib.pyplot as plt\n",
    "native_df = df[\"native-country\"]\n",
    "native_df = pd.DataFrame(native_df.value_counts())\n",
    "labels = list(native_df.index)\n",
    "fig , ax = plt.subplots(figsize=(10,10))\n",
    "ax.pie(native_df[\"native-country\"], shadow=True, startangle=90)\n",
    "box = ax.get_position()\n",
    "ax.set_position([box.x0, box.y0, box.width * 0.8, box.height])\n",
    "ax.legend(labels, loc='center left', bbox_to_anchor=(1, 0.5))\n",
    "ax.set_title(\"% of Native Countries\")\n",
    "\n",
    "print(\"United-States total percentage :{} %\".format((native_df.iloc[0,0] / sum(native_df[\"native-country\"]))*100))\n",
    "del native_df"
   ]
  },
  {
   "cell_type": "markdown",
   "metadata": {},
   "source": [
    "From the figure, we can see that 1 variance of this feature has over 91% of the data. A decision was made to change all missing data from the Native Country column to equal \"United States\". \n",
    "\n",
    "Additional, the majority of the other variances had such as low number of records that a decision was made to try and combine the countries together in a way that could add to the model. The decision was to use the information from the website :\n",
    "\n",
    "https://www.nationsonline.org/oneworld/GNI_PPP_of_countries.htm\n",
    "\n",
    "to split the countries into first, second and third world countries. The belief is that an immigrant from a first world country might have more financial or educational support to aid them. "
   ]
  },
  {
   "cell_type": "code",
   "execution_count": 10,
   "metadata": {},
   "outputs": [
    {
     "data": {
      "text/plain": [
       "<matplotlib.axes._subplots.AxesSubplot at 0x19a4d98d588>"
      ]
     },
     "execution_count": 10,
     "metadata": {},
     "output_type": "execute_result"
    },
    {
     "data": {
      "image/png": "[encoded data removed]",
      "text/plain": [
       "<Figure size 720x720 with 1 Axes>"
      ]
     },
     "metadata": {},
     "output_type": "display_data"
    }
   ],
   "source": [
    "df[\"native-country\"] = df[\"native-country\"].replace(np.NaN , \" United-States\")\n",
    "third_world = [\" Honduras\", \" Vietnam\",\" Cambodia\",\" Laos\",\" Haiti\",\n",
    "               \" Yugoslavia\",\" India\",\" Guatemala\", \" Nicaragua\"]\n",
    "second_world = [\" Trinadad&Tobago\",\" Poland\" ,\" Mexico\" , \" Thailand\",\" Iran\",\n",
    "                \" Columbia\", \" Peru\", \" Philippines\" ,\" China\",\" Ecuador\" ,\n",
    "                \" Cuba\",\" El-Salvador\",\" Jamaica\",\" South\"]\n",
    "first_world = [\" Holand-Netherlands\",\" Scotland\",\" Ireland\",\" Hong\",\" Beligum\" ,\" Japan\",\" Italy\",\" England\",\" Germany\",\" Canada\",\" France\",\" Taiwan\",\" Greece\",\n",
    "               \" Portugal\" , \" Hungary\",\" Outlying-US(Guam-USVI-etc)\",\n",
    "               \" Puerto-Rico\", \" Dominican-Republic\"]\n",
    "\n",
    "for i in first_world:\n",
    "    df[\"native-country\"] = df[\"native-country\"].replace(i,\" First World Country\")\n",
    "\n",
    "for i in second_world:\n",
    "    df[\"native-country\"] = df[\"native-country\"].replace(i,\" Second World Country\")\n",
    "\n",
    "for i in third_world:\n",
    "    df[\"native-country\"] = df[\"native-country\"].replace(i,\" Third World Country\")\n",
    "    \n",
    "df[\"native-country\"].value_counts().plot(kind=\"pie\", figsize=(10,10))"
   ]
  },
  {
   "cell_type": "markdown",
   "metadata": {},
   "source": [
    "The next step was to look at the working class data and how the data is distributed."
   ]
  },
  {
   "cell_type": "code",
   "execution_count": 11,
   "metadata": {},
   "outputs": [
    {
     "data": {
      "text/plain": [
       "<matplotlib.axes._subplots.AxesSubplot at 0x19a4d9876d8>"
      ]
     },
     "execution_count": 11,
     "metadata": {},
     "output_type": "execute_result"
    },
    {
     "data": {
      "image/png": "[encoded data removed]",
      "text/plain": [
       "<Figure size 720x720 with 1 Axes>"
      ]
     },
     "metadata": {
      "needs_background": "light"
     },
     "output_type": "display_data"
    }
   ],
   "source": [
    "df[\"workclass\"].value_counts().plot(kind=\"barh\",figsize=(10,10))"
   ]
  },
  {
   "cell_type": "markdown",
   "metadata": {},
   "source": [
    "Again, the majority of the data is Privately employed. With the data being skewed  to the Private sector,the missing data for the working class column was placed into the Private Column. \n",
    "\n",
    "In addition to editing the missing data, a decision was made to combine fields that had a high correlation. The people who never work and the people who are without  work were placed in the same category. \n",
    "\n",
    "However the Government job categories remained as the mean salary for the different levels are significantly different. \n",
    "\n",
    "-Federal government - $70,000 <br> \n",
    "\n",
    "-State government - $53,180 <br>\n",
    "\n",
    "-Local goverment - $47,230 <br>\n",
    "(Information retrieved at https://work.chron.com/average-salary-government-employees-7863.html)\n",
    "\n",
    "For the self employed columns, although no additional data was found showing a difference between incorporated self employers and unincorporated self-employees. It was thought that a person would incorporate their company when it grows to a significant size and so there could be a significant difference between the 2 categories. This resulted in the 2 categories being left as they were."
   ]
  },
  {
   "cell_type": "code",
   "execution_count": 12,
   "metadata": {},
   "outputs": [
    {
     "data": {
      "text/plain": [
       "<matplotlib.axes._subplots.AxesSubplot at 0x19a4da5ff28>"
      ]
     },
     "execution_count": 12,
     "metadata": {},
     "output_type": "execute_result"
    },
    {
     "data": {
      "image/png": "[encoded data removed]",
      "text/plain": [
       "<Figure size 720x720 with 1 Axes>"
      ]
     },
     "metadata": {
      "needs_background": "light"
     },
     "output_type": "display_data"
    }
   ],
   "source": [
    "df[\"workclass\"] = df[\"workclass\"].replace(np.NaN,\" Private\")\n",
    "replacing = [\" Never-worked\",\" Without-pay\"]\n",
    "for i in replacing : \n",
    "    df[\"workclass\"] = df[\"workclass\"].replace(i,\" Unemployed\")\n",
    "del replacing\n",
    "df[\"workclass\"].value_counts().plot(kind=\"barh\",figsize=(10,10))"
   ]
  },
  {
   "cell_type": "markdown",
   "metadata": {},
   "source": [
    "An examination of the last column, Occupation, occurred."
   ]
  },
  {
   "cell_type": "code",
   "execution_count": 13,
   "metadata": {},
   "outputs": [
    {
     "data": {
      "image/png": "[encoded data removed]",
      "text/plain": [
       "<Figure size 432x288 with 1 Axes>"
      ]
     },
     "metadata": {
      "needs_background": "light"
     },
     "output_type": "display_data"
    }
   ],
   "source": [
    "occ_df = df[\"occupation\"].value_counts()\n",
    "occ_df.plot(kind=\"bar\")\n",
    "del occ_df"
   ]
  },
  {
   "cell_type": "markdown",
   "metadata": {},
   "source": [
    "The spread of the data was much more even. 3 options were considered for the missing data. The first option was to create a model that used the other features to predict which occupation the record belonged to. The second option was to delete the data. The last option was to convert the missing data to an intentional out-of-range value. This would allow some of the prediction models to ignore that piece of data. \n",
    "\n",
    "A examination on how many records would be lost occurred."
   ]
  },
  {
   "cell_type": "code",
   "execution_count": 14,
   "metadata": {},
   "outputs": [
    {
     "name": "stdout",
     "output_type": "stream",
     "text": [
      "[' Adm-clerical' ' Exec-managerial' ' Handlers-cleaners' ' Prof-specialty'\n",
      " ' Other-service' ' Sales' ' Craft-repair' ' Transport-moving'\n",
      " ' Farming-fishing' ' Machine-op-inspct' ' Tech-support' nan\n",
      " ' Protective-serv' ' Armed-Forces' ' Priv-house-serv']\n"
     ]
    },
    {
     "data": {
      "text/plain": [
       "age                  0\n",
       "workclass            0\n",
       "education            0\n",
       "marital-status       0\n",
       "occupation        1843\n",
       "relationship         0\n",
       "race                 0\n",
       "sex                  0\n",
       "capital-gain         0\n",
       "capital-loss         0\n",
       "hours-per-week       0\n",
       "native-country       0\n",
       "label                0\n",
       "dtype: int64"
      ]
     },
     "execution_count": 14,
     "metadata": {},
     "output_type": "execute_result"
    }
   ],
   "source": [
    "print(df[\"occupation\"].unique())\n",
    "df.isnull().sum()"
   ]
  },
  {
   "cell_type": "markdown",
   "metadata": {},
   "source": [
    "The results of that examination showed that 1843 would still be lost. After creating a model using KNNclasifer, the model came to only a 33% chance of guessing the correct label. Additionally, due to the size of the remaining sample,it was deemed acceptable to lose this number of records."
   ]
  },
  {
   "cell_type": "code",
   "execution_count": 15,
   "metadata": {},
   "outputs": [],
   "source": [
    "df = df.dropna()"
   ]
  },
  {
   "cell_type": "markdown",
   "metadata": {},
   "source": [
    "Once all the missing data was either replaced or deleted. The other columns were examined to see if the varience in each columns could be reduced.\n",
    "\n",
    "To get a better idea if certain data categories could be combined an examine on the bias of dataframe was conducted. "
   ]
  },
  {
   "cell_type": "code",
   "execution_count": 16,
   "metadata": {},
   "outputs": [
    {
     "name": "stdout",
     "output_type": "stream",
     "text": [
      "Number of records above 50000 :\n",
      "7650\n",
      "################################\n",
      "Number of records below 50000 :\n",
      "23068\n",
      "################################\n"
     ]
    }
   ],
   "source": [
    "education_df = df[[\"label\",\"education\"]]\n",
    "ed_below_50 = education_df[education_df[\"label\"] == \" <=50K\" ]\n",
    "ed_above_50 = education_df[education_df[\"label\"] == \" >50K\" ]\n",
    "print(\"Number of records above 50000 :\")\n",
    "print(ed_above_50.shape[0])\n",
    "print(\"################################\")\n",
    "print(\"Number of records below 50000 :\")\n",
    "print(ed_below_50.shape[0])\n",
    "print(\"################################\")"
   ]
  },
  {
   "cell_type": "markdown",
   "metadata": {},
   "source": [
    "Using this information, a graph was created from the education column that showed the distribution of the data in each of the eductional categories."
   ]
  },
  {
   "cell_type": "code",
   "execution_count": 17,
   "metadata": {},
   "outputs": [],
   "source": [
    "ed_above_50 = ed_above_50.groupby(\"education\").agg([\"count\"])\n",
    "ed_below_50 = ed_below_50.groupby(\"education\").agg([\"count\"])\n",
    "ed_above_50.loc[\" Preschool\"] = 0\n",
    "ed_above_50 = ed_above_50.sort_index(ascending = False)\n",
    "ed_below_50 = ed_below_50.sort_index(ascending = False)\n",
    "labels = list(ed_above_50.index)"
   ]
  },
  {
   "cell_type": "code",
   "execution_count": 18,
   "metadata": {},
   "outputs": [
    {
     "data": {
      "image/png": "[encoded data removed]",
      "text/plain": [
       "<Figure size 720x720 with 1 Axes>"
      ]
     },
     "metadata": {
      "needs_background": "light"
     },
     "output_type": "display_data"
    }
   ],
   "source": [
    "index = np.arange(1,ed_above_50.shape[0]+1)\n",
    "bar_width = 0.35\n",
    "fig, ax = plt.subplots(figsize=(10,10))\n",
    "rect1 = ax.bar(index - bar_width / 2 ,ed_above_50[(\"label\",\"count\")],bar_width,color=\"b\", label=\"Above 50,000\")\n",
    "rect2 = ax.bar(index + bar_width /2 , ed_below_50[(\"label\",\"count\")], bar_width,color=\"r\", label=\"Below 50,000\")\n",
    "ax.legend(fontsize = \"20\")\n",
    "ax.set_xticks(index)\n",
    "ax.set_xticklabels(labels)\n",
    "for tick in ax.get_xticklabels():\n",
    "    tick.set_rotation(90)"
   ]
  },
  {
   "cell_type": "markdown",
   "metadata": {},
   "source": [
    "A decision was made to combine all categories that were below the High School graduate. As the belief was that anyone who dropped out of highschool wouldn't be using their acdamic ability to aid them in their career.  "
   ]
  },
  {
   "cell_type": "code",
   "execution_count": 19,
   "metadata": {},
   "outputs": [
    {
     "name": "stdout",
     "output_type": "stream",
     "text": [
      "[' Bachelors' ' HS-grad' ' Dropout' ' Masters' ' Some-college'\n",
      " ' Assoc-acdm' ' Assoc-voc' ' Doctorate' ' Prof-school']\n"
     ]
    }
   ],
   "source": [
    "replacing = [\" 11th\",\" 10th\",\" 7th-8th\",\" 9th\",\" 12th\",\" 5th-6th\",\" 1st-4th\",\" Preschool\"]\n",
    "for i in replacing:\n",
    "    df[\"education\"] = df[\"education\"].replace(i,\" Dropout\")\n",
    "print(df[\"education\"].unique())"
   ]
  },
  {
   "cell_type": "markdown",
   "metadata": {},
   "source": [
    "This step was then repeated for both the \"Martial Status\" and \"Relationship\" columns.An examination of these columns took place to see if there was any redundancy between the two columns. "
   ]
  },
  {
   "cell_type": "code",
   "execution_count": 20,
   "metadata": {},
   "outputs": [
    {
     "name": "stdout",
     "output_type": "stream",
     "text": [
      " Married-civ-spouse       14339\n",
      " Never-married             9912\n",
      " Divorced                  4258\n",
      " Separated                  959\n",
      " Widowed                    840\n",
      " Married-spouse-absent      389\n",
      " Married-AF-spouse           21\n",
      "Name: marital-status, dtype: int64\n",
      " Husband           12704\n",
      " Not-in-family      7865\n",
      " Own-child          4525\n",
      " Unmarried          3271\n",
      " Wife               1435\n",
      " Other-relative      918\n",
      "Name: relationship, dtype: int64\n"
     ]
    }
   ],
   "source": [
    "print(df[\"marital-status\"].value_counts())\n",
    "print(df[\"relationship\"].value_counts())"
   ]
  },
  {
   "cell_type": "markdown",
   "metadata": {},
   "source": [
    "Even though there is some cross over between the two columns, it was decided to keep both. However, for the relationship column, the \"Husband\" and \"Wife\" categories were combined into 1 named married, and the \"Not - in - Family\" was added to the unmarried categry.  "
   ]
  },
  {
   "cell_type": "code",
   "execution_count": 21,
   "metadata": {},
   "outputs": [
    {
     "name": "stdout",
     "output_type": "stream",
     "text": [
      " Married           14139\n",
      " Unmarried         11136\n",
      " Own-child          4525\n",
      " Other-relative      918\n",
      "Name: relationship, dtype: int64\n"
     ]
    }
   ],
   "source": [
    "married_replacing = [\" Husband\", \" Wife\"]\n",
    "for i in married_replacing:\n",
    "    df[\"relationship\"]= df[\"relationship\"].replace(i,\" Married\")\n",
    "    \n",
    "df[\"relationship\"]= df[\"relationship\"].replace(\" Not-in-family\",\" Unmarried\")\n",
    "print(df[\"relationship\"].value_counts())"
   ]
  },
  {
   "cell_type": "markdown",
   "metadata": {},
   "source": [
    "This process was repeated for the \"Martial Status\" column as the separated records were combines with the divorced data and the \"Married Civ Spouse\" and \"Married AF Spouse\" were combined into the Married data."
   ]
  },
  {
   "cell_type": "code",
   "execution_count": 22,
   "metadata": {},
   "outputs": [
    {
     "name": "stdout",
     "output_type": "stream",
     "text": [
      " Married                  14360\n",
      " Never-married             9912\n",
      " Divorced                  5217\n",
      " Widowed                    840\n",
      " Married-spouse-absent      389\n",
      "Name: marital-status, dtype: int64\n"
     ]
    }
   ],
   "source": [
    "df[\"marital-status\"]= df[\"marital-status\"].replace(\" Separated\",\" Divorced\")\n",
    "df[\"marital-status\"]= df[\"marital-status\"].replace(\" Married-civ-spouse\",\" Married\")\n",
    "df[\"marital-status\"]= df[\"marital-status\"].replace(\" Married-AF-spouse\",\" Married\")\n",
    "print(df[\"marital-status\"].value_counts())"
   ]
  },
  {
   "cell_type": "markdown",
   "metadata": {},
   "source": [
    "<h1> Normalising the data </h1>"
   ]
  },
  {
   "cell_type": "markdown",
   "metadata": {},
   "source": [
    "The data has been cleaned and combined to make it more effective in the modeling process.However, currently there are still a number of columns that have an unsuitable datatype for some of the machine learning algorithms that I will be using."
   ]
  },
  {
   "cell_type": "code",
   "execution_count": 23,
   "metadata": {},
   "outputs": [
    {
     "name": "stdout",
     "output_type": "stream",
     "text": [
      "<class 'pandas.core.frame.DataFrame'>\n",
      "Int64Index: 30718 entries, 0 to 32560\n",
      "Data columns (total 13 columns):\n",
      "age               30718 non-null int64\n",
      "workclass         30718 non-null object\n",
      "education         30718 non-null object\n",
      "marital-status    30718 non-null object\n",
      "occupation        30718 non-null object\n",
      "relationship      30718 non-null object\n",
      "race              30718 non-null object\n",
      "sex               30718 non-null object\n",
      "capital-gain      30718 non-null int64\n",
      "capital-loss      30718 non-null int64\n",
      "hours-per-week    30718 non-null int64\n",
      "native-country    30718 non-null object\n",
      "label             30718 non-null object\n",
      "dtypes: int64(4), object(9)\n",
      "memory usage: 3.3+ MB\n"
     ]
    }
   ],
   "source": [
    "df.info()"
   ]
  },
  {
   "cell_type": "markdown",
   "metadata": {},
   "source": [
    "I will be converting all the object datatypes to a numerical type. The options that I have for this are using the Labelencoder and OneHotEncoder.\n",
    "\n",
    "Due to the non-ordinal relations between the data categories in each column. I have chosen to use pandas.get_dummies on the object datatypes, \"workclass\",\"education\",\"marital-status\",\"occupation\",\"relationship\",\"race\",\"sex\",\"native-country\" were converted to a numeric value. \n"
   ]
  },
  {
   "cell_type": "code",
   "execution_count": 24,
   "metadata": {},
   "outputs": [],
   "source": [
    "features = df[[\"workclass\",\"education\",\"marital-status\",\"occupation\",\"relationship\",\"race\",\"sex\",\"native-country\"]]\n",
    "new_features = pd.get_dummies(features)"
   ]
  },
  {
   "cell_type": "markdown",
   "metadata": {},
   "source": [
    "These features are then added to the original dataframe, and the original columns deleted."
   ]
  },
  {
   "cell_type": "code",
   "execution_count": 25,
   "metadata": {},
   "outputs": [
    {
     "data": {
      "text/html": [
       "<div>\n",
       "<style scoped>\n",
       "    .dataframe tbody tr th:only-of-type {\n",
       "        vertical-align: middle;\n",
       "    }\n",
       "\n",
       "    .dataframe tbody tr th {\n",
       "        vertical-align: top;\n",
       "    }\n",
       "\n",
       "    .dataframe thead th {\n",
       "        text-align: right;\n",
       "    }\n",
       "</style>\n",
       "<table border=\"1\" class=\"dataframe\">\n",
       "  <thead>\n",
       "    <tr style=\"text-align: right;\">\n",
       "      <th></th>\n",
       "      <th>index</th>\n",
       "      <th>age</th>\n",
       "      <th>workclass</th>\n",
       "      <th>education</th>\n",
       "      <th>marital-status</th>\n",
       "      <th>occupation</th>\n",
       "      <th>relationship</th>\n",
       "      <th>race</th>\n",
       "      <th>sex</th>\n",
       "      <th>capital-gain</th>\n",
       "      <th>...</th>\n",
       "      <th>race_ Asian-Pac-Islander</th>\n",
       "      <th>race_ Black</th>\n",
       "      <th>race_ Other</th>\n",
       "      <th>race_ White</th>\n",
       "      <th>sex_ Female</th>\n",
       "      <th>sex_ Male</th>\n",
       "      <th>native-country_ First World Country</th>\n",
       "      <th>native-country_ Second World Country</th>\n",
       "      <th>native-country_ Third World Country</th>\n",
       "      <th>native-country_ United-States</th>\n",
       "    </tr>\n",
       "  </thead>\n",
       "  <tbody>\n",
       "    <tr>\n",
       "      <th>0</th>\n",
       "      <td>0</td>\n",
       "      <td>39</td>\n",
       "      <td>State-gov</td>\n",
       "      <td>Bachelors</td>\n",
       "      <td>Never-married</td>\n",
       "      <td>Adm-clerical</td>\n",
       "      <td>Unmarried</td>\n",
       "      <td>White</td>\n",
       "      <td>Male</td>\n",
       "      <td>2174</td>\n",
       "      <td>...</td>\n",
       "      <td>0</td>\n",
       "      <td>0</td>\n",
       "      <td>0</td>\n",
       "      <td>1</td>\n",
       "      <td>0</td>\n",
       "      <td>1</td>\n",
       "      <td>0</td>\n",
       "      <td>0</td>\n",
       "      <td>0</td>\n",
       "      <td>1</td>\n",
       "    </tr>\n",
       "    <tr>\n",
       "      <th>1</th>\n",
       "      <td>1</td>\n",
       "      <td>50</td>\n",
       "      <td>Self-emp-not-inc</td>\n",
       "      <td>Bachelors</td>\n",
       "      <td>Married</td>\n",
       "      <td>Exec-managerial</td>\n",
       "      <td>Married</td>\n",
       "      <td>White</td>\n",
       "      <td>Male</td>\n",
       "      <td>0</td>\n",
       "      <td>...</td>\n",
       "      <td>0</td>\n",
       "      <td>0</td>\n",
       "      <td>0</td>\n",
       "      <td>1</td>\n",
       "      <td>0</td>\n",
       "      <td>1</td>\n",
       "      <td>0</td>\n",
       "      <td>0</td>\n",
       "      <td>0</td>\n",
       "      <td>1</td>\n",
       "    </tr>\n",
       "  </tbody>\n",
       "</table>\n",
       "<p>2 rows × 64 columns</p>\n",
       "</div>"
      ],
      "text/plain": [
       "   index  age          workclass   education  marital-status  \\\n",
       "0      0   39          State-gov   Bachelors   Never-married   \n",
       "1      1   50   Self-emp-not-inc   Bachelors         Married   \n",
       "\n",
       "         occupation relationship    race    sex  capital-gain  \\\n",
       "0      Adm-clerical    Unmarried   White   Male          2174   \n",
       "1   Exec-managerial      Married   White   Male             0   \n",
       "\n",
       "               ...                race_ Asian-Pac-Islander  race_ Black  \\\n",
       "0              ...                                       0            0   \n",
       "1              ...                                       0            0   \n",
       "\n",
       "  race_ Other race_ White  sex_ Female  sex_ Male  \\\n",
       "0           0           1            0          1   \n",
       "1           0           1            0          1   \n",
       "\n",
       "   native-country_ First World Country  native-country_ Second World Country  \\\n",
       "0                                    0                                     0   \n",
       "1                                    0                                     0   \n",
       "\n",
       "   native-country_ Third World Country  native-country_ United-States  \n",
       "0                                    0                              1  \n",
       "1                                    0                              1  \n",
       "\n",
       "[2 rows x 64 columns]"
      ]
     },
     "execution_count": 25,
     "metadata": {},
     "output_type": "execute_result"
    }
   ],
   "source": [
    "df.reset_index(inplace= True)\n",
    "new_features.reset_index(inplace= True)\n",
    "df = pd.merge(df,new_features,on=\"index\",how=\"inner\")\n",
    "df.head(2)"
   ]
  },
  {
   "cell_type": "code",
   "execution_count": 26,
   "metadata": {},
   "outputs": [
    {
     "data": {
      "text/html": [
       "<div>\n",
       "<style scoped>\n",
       "    .dataframe tbody tr th:only-of-type {\n",
       "        vertical-align: middle;\n",
       "    }\n",
       "\n",
       "    .dataframe tbody tr th {\n",
       "        vertical-align: top;\n",
       "    }\n",
       "\n",
       "    .dataframe thead th {\n",
       "        text-align: right;\n",
       "    }\n",
       "</style>\n",
       "<table border=\"1\" class=\"dataframe\">\n",
       "  <thead>\n",
       "    <tr style=\"text-align: right;\">\n",
       "      <th></th>\n",
       "      <th>age</th>\n",
       "      <th>capital-gain</th>\n",
       "      <th>capital-loss</th>\n",
       "      <th>hours-per-week</th>\n",
       "      <th>label</th>\n",
       "      <th>workclass_ Federal-gov</th>\n",
       "      <th>workclass_ Local-gov</th>\n",
       "      <th>workclass_ Private</th>\n",
       "      <th>workclass_ Self-emp-inc</th>\n",
       "      <th>workclass_ Self-emp-not-inc</th>\n",
       "      <th>...</th>\n",
       "      <th>race_ Asian-Pac-Islander</th>\n",
       "      <th>race_ Black</th>\n",
       "      <th>race_ Other</th>\n",
       "      <th>race_ White</th>\n",
       "      <th>sex_ Female</th>\n",
       "      <th>sex_ Male</th>\n",
       "      <th>native-country_ First World Country</th>\n",
       "      <th>native-country_ Second World Country</th>\n",
       "      <th>native-country_ Third World Country</th>\n",
       "      <th>native-country_ United-States</th>\n",
       "    </tr>\n",
       "  </thead>\n",
       "  <tbody>\n",
       "    <tr>\n",
       "      <th>0</th>\n",
       "      <td>39</td>\n",
       "      <td>2174</td>\n",
       "      <td>0</td>\n",
       "      <td>40</td>\n",
       "      <td>&lt;=50K</td>\n",
       "      <td>0</td>\n",
       "      <td>0</td>\n",
       "      <td>0</td>\n",
       "      <td>0</td>\n",
       "      <td>0</td>\n",
       "      <td>...</td>\n",
       "      <td>0</td>\n",
       "      <td>0</td>\n",
       "      <td>0</td>\n",
       "      <td>1</td>\n",
       "      <td>0</td>\n",
       "      <td>1</td>\n",
       "      <td>0</td>\n",
       "      <td>0</td>\n",
       "      <td>0</td>\n",
       "      <td>1</td>\n",
       "    </tr>\n",
       "    <tr>\n",
       "      <th>1</th>\n",
       "      <td>50</td>\n",
       "      <td>0</td>\n",
       "      <td>0</td>\n",
       "      <td>13</td>\n",
       "      <td>&lt;=50K</td>\n",
       "      <td>0</td>\n",
       "      <td>0</td>\n",
       "      <td>0</td>\n",
       "      <td>0</td>\n",
       "      <td>1</td>\n",
       "      <td>...</td>\n",
       "      <td>0</td>\n",
       "      <td>0</td>\n",
       "      <td>0</td>\n",
       "      <td>1</td>\n",
       "      <td>0</td>\n",
       "      <td>1</td>\n",
       "      <td>0</td>\n",
       "      <td>0</td>\n",
       "      <td>0</td>\n",
       "      <td>1</td>\n",
       "    </tr>\n",
       "  </tbody>\n",
       "</table>\n",
       "<p>2 rows × 55 columns</p>\n",
       "</div>"
      ],
      "text/plain": [
       "   age  capital-gain  capital-loss  hours-per-week   label  \\\n",
       "0   39          2174             0              40   <=50K   \n",
       "1   50             0             0              13   <=50K   \n",
       "\n",
       "   workclass_ Federal-gov  workclass_ Local-gov  workclass_ Private  \\\n",
       "0                       0                     0                   0   \n",
       "1                       0                     0                   0   \n",
       "\n",
       "   workclass_ Self-emp-inc  workclass_ Self-emp-not-inc  \\\n",
       "0                        0                            0   \n",
       "1                        0                            1   \n",
       "\n",
       "               ...                race_ Asian-Pac-Islander  race_ Black  \\\n",
       "0              ...                                       0            0   \n",
       "1              ...                                       0            0   \n",
       "\n",
       "   race_ Other  race_ White  sex_ Female  sex_ Male  \\\n",
       "0            0            1            0          1   \n",
       "1            0            1            0          1   \n",
       "\n",
       "   native-country_ First World Country  native-country_ Second World Country  \\\n",
       "0                                    0                                     0   \n",
       "1                                    0                                     0   \n",
       "\n",
       "   native-country_ Third World Country  native-country_ United-States  \n",
       "0                                    0                              1  \n",
       "1                                    0                              1  \n",
       "\n",
       "[2 rows x 55 columns]"
      ]
     },
     "execution_count": 26,
     "metadata": {},
     "output_type": "execute_result"
    }
   ],
   "source": [
    "df = df.drop([\"index\",\"workclass\",\"education\",\"marital-status\",\"relationship\",\"race\",\"sex\",\n",
    "               \"native-country\",\"occupation\"],1)\n",
    "df.head(2)"
   ]
  },
  {
   "cell_type": "markdown",
   "metadata": {},
   "source": [
    "Continuing with the necessary conversion of the data, the label column was updated so that:\n",
    "\n",
    "0 = Below $50,000\n",
    "\n",
    "1 = Above $50,000"
   ]
  },
  {
   "cell_type": "code",
   "execution_count": 27,
   "metadata": {},
   "outputs": [
    {
     "name": "stdout",
     "output_type": "stream",
     "text": [
      "Index(['age', 'capital-gain', 'capital-loss', 'hours-per-week',\n",
      "       'workclass_ Federal-gov', 'workclass_ Local-gov', 'workclass_ Private',\n",
      "       'workclass_ Self-emp-inc', 'workclass_ Self-emp-not-inc',\n",
      "       'workclass_ State-gov', 'workclass_ Unemployed',\n",
      "       'education_ Assoc-acdm', 'education_ Assoc-voc', 'education_ Bachelors',\n",
      "       'education_ Doctorate', 'education_ Dropout', 'education_ HS-grad',\n",
      "       'education_ Masters', 'education_ Prof-school',\n",
      "       'education_ Some-college', 'marital-status_ Divorced',\n",
      "       'marital-status_ Married', 'marital-status_ Married-spouse-absent',\n",
      "       'marital-status_ Never-married', 'marital-status_ Widowed',\n",
      "       'occupation_ Adm-clerical', 'occupation_ Armed-Forces',\n",
      "       'occupation_ Craft-repair', 'occupation_ Exec-managerial',\n",
      "       'occupation_ Farming-fishing', 'occupation_ Handlers-cleaners',\n",
      "       'occupation_ Machine-op-inspct', 'occupation_ Other-service',\n",
      "       'occupation_ Priv-house-serv', 'occupation_ Prof-specialty',\n",
      "       'occupation_ Protective-serv', 'occupation_ Sales',\n",
      "       'occupation_ Tech-support', 'occupation_ Transport-moving',\n",
      "       'relationship_ Married', 'relationship_ Other-relative',\n",
      "       'relationship_ Own-child', 'relationship_ Unmarried',\n",
      "       'race_ Amer-Indian-Eskimo', 'race_ Asian-Pac-Islander', 'race_ Black',\n",
      "       'race_ Other', 'race_ White', 'sex_ Female', 'sex_ Male',\n",
      "       'native-country_ First World Country',\n",
      "       'native-country_ Second World Country',\n",
      "       'native-country_ Third World Country', 'native-country_ United-States'],\n",
      "      dtype='object')\n"
     ]
    }
   ],
   "source": [
    "df[\"label\"] = df[\"label\"].apply(lambda x : 0 if x ==\" <=50K\" else 1)\n",
    "label_df = df[\"label\"]\n",
    "features = df.drop(\"label\",1)\n",
    "features.head(2)\n",
    "print(features.columns)"
   ]
  },
  {
   "cell_type": "markdown",
   "metadata": {},
   "source": [
    "The features then had to be normalised as the differences between some of the values were so great that it could affect the accuracy of the models. \n",
    "\n",
    "The MinMaxScaler was used to transforms the data.\n"
   ]
  },
  {
   "cell_type": "code",
   "execution_count": 28,
   "metadata": {},
   "outputs": [
    {
     "name": "stderr",
     "output_type": "stream",
     "text": [
      "C:\\Users\\NJGaj\\Anaconda3\\envs\\graphs\\lib\\site-packages\\sklearn\\preprocessing\\data.py:323: DataConversionWarning: Data with input dtype uint8, int64 were all converted to float64 by MinMaxScaler.\n",
      "  return self.partial_fit(X, y)\n"
     ]
    }
   ],
   "source": [
    "from sklearn.preprocessing import MinMaxScaler\n",
    "from sklearn.externals import joblib\n",
    "\n",
    "scaler = MinMaxScaler()\n",
    "scaler.fit(features)\n",
    "joblib.dump(scaler, 'MinMaxScaler.pkl') \n",
    "scaled_df = scaler.transform(features)"
   ]
  },
  {
   "cell_type": "markdown",
   "metadata": {},
   "source": [
    "<h1> Exploring the machine learning algorithms</h1>"
   ]
  },
  {
   "cell_type": "markdown",
   "metadata": {},
   "source": [
    "With the transformation of the data complete, a selection of algorithms were chosen to explore the best method to predict the salary classification. Below are the selected algorithms : \n",
    "\n",
    "1)KNeighborsClassifier\n",
    "\n",
    "2) Naive_bayes\n",
    "\n",
    "3)Linear Regression\n",
    "\n",
    "4)Random Forest\n",
    "\n",
    "5)Extra Trees \n",
    "\n",
    "6) Support Vector Machine\n",
    "\n",
    "7) Neural Network"
   ]
  },
  {
   "cell_type": "code",
   "execution_count": 49,
   "metadata": {},
   "outputs": [],
   "source": [
    "from sklearn.model_selection import train_test_split\n",
    "from sklearn.model_selection import cross_val_score\n",
    "from sklearn.neighbors import KNeighborsClassifier\n",
    "from sklearn.naive_bayes import GaussianNB\n",
    "from sklearn.linear_model import LinearRegression\n",
    "from sklearn.ensemble import RandomForestClassifier\n",
    "from sklearn.ensemble import ExtraTreesClassifier\n",
    "from sklearn import svm\n",
    "from sklearn.neural_network import MLPClassifier\n",
    "from sklearn.metrics import accuracy_score, confusion_matrix\n"
   ]
  },
  {
   "cell_type": "markdown",
   "metadata": {},
   "source": [
    "The data was then divided into test and train datasets. We have 2 ways to divide our data, with the train_test_split option and cross_val_score. We will initially see the results from the test_train_split."
   ]
  },
  {
   "cell_type": "code",
   "execution_count": 50,
   "metadata": {},
   "outputs": [],
   "source": [
    "X_train, X_test,y_train,y_test = train_test_split(scaled_df,label_df)"
   ]
  },
  {
   "cell_type": "markdown",
   "metadata": {},
   "source": [
    "The classifiers are then set to their default settings and each classifier is trained and tested with the data.\n"
   ]
  },
  {
   "cell_type": "code",
   "execution_count": 51,
   "metadata": {},
   "outputs": [
    {
     "name": "stderr",
     "output_type": "stream",
     "text": [
      "C:\\Users\\NJGaj\\Anaconda3\\envs\\graphs\\lib\\site-packages\\sklearn\\neural_network\\multilayer_perceptron.py:562: ConvergenceWarning: Stochastic Optimizer: Maximum iterations (200) reached and the optimization hasn't converged yet.\n",
      "  % self.max_iter, ConvergenceWarning)\n"
     ]
    }
   ],
   "source": [
    "classifiers = [\n",
    "    KNeighborsClassifier(100),\n",
    "    GaussianNB(),\n",
    "    ExtraTreesClassifier(100),\n",
    "    svm.SVC(gamma='scale'),\n",
    "    RandomForestClassifier(100),\n",
    "    MLPClassifier(max_iter=200)\n",
    "    \n",
    "    ]\n",
    "\n",
    "alo = []\n",
    "min_max = []\n",
    "standard_list = []\n",
    "confusion_matrix_list = []\n",
    "for clf in classifiers:\n",
    "    clf.fit(X_train,y_train)\n",
    "    name = clf.__class__.__name__\n",
    "    alo.append(name)\n",
    "    prediction = clf.predict(X_test)\n",
    "    acc = accuracy_score(y_test, prediction)\n",
    "    min_max.append(acc)\n",
    "    matrix = confusion_matrix(y_test, prediction)\n",
    "    confusion_matrix_list.append(matrix)\n",
    "    "
   ]
  },
  {
   "cell_type": "markdown",
   "metadata": {},
   "source": [
    "This information is placed in a chart so we can compare the accuracy of each classifier. "
   ]
  },
  {
   "cell_type": "code",
   "execution_count": 52,
   "metadata": {},
   "outputs": [
    {
     "name": "stdout",
     "output_type": "stream",
     "text": [
      "[0.8279947916666667, 0.6401041666666667, 0.8229166666666666, 0.8325520833333333, 0.841796875, 0.8440104166666667]\n",
      "0.8440104166666667\n"
     ]
    },
    {
     "data": {
      "image/png": "[encoded data removed]",
      "text/plain": [
       "<Figure size 720x720 with 1 Axes>"
      ]
     },
     "metadata": {
      "needs_background": "light"
     },
     "output_type": "display_data"
    }
   ],
   "source": [
    "print(min_max)\n",
    "max_val = max(min_max)\n",
    "print(max_val)\n",
    "labels = list(alo)\n",
    "index = np.arange(1,len(alo)+1)    \n",
    "bar_width = 0.35\n",
    "fig, ax = plt.subplots(figsize=(10,10))\n",
    "red_counter = False\n",
    "blue_counter = False\n",
    "for i in range(0,len(index)):\n",
    "    if max_val == min_max[i]:\n",
    "        colour = \"Green\"\n",
    "        label = \"Highest Acc Rating\"\n",
    "        ax.bar(index[i] ,min_max[i],bar_width,color=colour , label = label)\n",
    "    elif  min_max[i] > 0.8:\n",
    "        colour = \"r\"\n",
    "        label = \"Above 80% Acc Rating\"\n",
    "        if red_counter == False:\n",
    "            ax.bar(index[i] ,min_max[i],bar_width,color=colour , label = label)\n",
    "            red_counter = True\n",
    "        else: \n",
    "            ax.bar(index[i] ,min_max[i],bar_width,color=colour)\n",
    "                \n",
    "    else:\n",
    "        label =\"Below 80% Acc Rating\"\n",
    "        colour = \"b\"\n",
    "        if blue_counter == False:\n",
    "            ax.bar(index[i] ,min_max[i],bar_width,color=colour , label = label)\n",
    "            blue_counter =True\n",
    "        else:\n",
    "            ax.bar(index[i] ,min_max[i],bar_width,color=colour)\n",
    "            \n",
    "        \n",
    "ax.legend(bbox_to_anchor=(1.3, 0.5))\n",
    "ax.spines[\"top\"].set_visible(False)\n",
    "ax.spines[\"right\"].set_visible(False)\n",
    "plt.xticks(range(1,len(labels)+1), labels)\n",
    "for index,info in enumerate(ax.get_xticklabels()):\n",
    "    info.set_rotation(90)\n",
    "    ax.text(index+0.90,min_max[index]+0.02,\"{:.2f}\".format(min_max[index]))"
   ]
  },
  {
   "cell_type": "markdown",
   "metadata": {},
   "source": [
    "As we can see, apart from Naive Bayes, all the other machine learning algorithms are above 80% with the Random Forest and the Neural Network Classifier slightly edging it at >84 % accuracy. \n",
    "With so many algorithms having a similar accuracy rating, further investigation will be undertaken by looking at the confusion matrix. This will establish where the errors occurred.\n"
   ]
  },
  {
   "cell_type": "code",
   "execution_count": 53,
   "metadata": {},
   "outputs": [
    {
     "data": {
      "image/png": "[encoded data removed]",
      "text/plain": [
       "<Figure size 720x720 with 4 Axes>"
      ]
     },
     "metadata": {
      "needs_background": "light"
     },
     "output_type": "display_data"
    }
   ],
   "source": [
    "from matplotlib.gridspec import GridSpec\n",
    "confusion_matrix_list\n",
    "fig = plt.figure(figsize=(10,10))\n",
    "gs = GridSpec(2,2)\n",
    "ax1 = plt.subplot(gs[0,0])\n",
    "ax2 = plt.subplot(gs[0,1])\n",
    "ax3 = plt.subplot(gs[1,0])\n",
    "ax4 = plt.subplot(gs[1,1])\n",
    "\n",
    "ax1_info =[]\n",
    "ax2_info =[]\n",
    "ax3_info =[]\n",
    "ax4_info =[]\n",
    "\n",
    "plt.setp(ax1.get_xticklabels(), visible=False)\n",
    "plt.setp(ax2.get_xticklabels(), visible=False)\n",
    "\n",
    "for index,clf in enumerate(confusion_matrix_list):\n",
    "    for index1,info_list in enumerate(clf):\n",
    "        counter = 1\n",
    "        for index2,info in enumerate(info_list):\n",
    "            if index1 == 0:\n",
    "                if index2 == 0 :\n",
    "                    ax1_info.append(info)\n",
    "                elif index2 == 1 :\n",
    "                    ax2_info.append(info)\n",
    "            elif index1 == 1:\n",
    "                if index2 == 0 :\n",
    "                    ax3_info.append(info)\n",
    "                elif index2 == 1 :\n",
    "                    ax4_info.append(info)\n",
    "                \n",
    "for index in range(1,len(ax1_info)+1):\n",
    "    ax1.bar(index , ax1_info[index-1])\n",
    "    ax2.bar(index , ax2_info[index-1])  \n",
    "    ax3.bar(index , ax3_info[index-1])  \n",
    "    ax4.bar(index , ax4_info[index-1])  \n",
    "       \n",
    "ax1.set_title(\"True Negative\")\n",
    "ax2.set_title(\"False Positive\")\n",
    "ax3.set_title(\"False Negative\")\n",
    "ax4.set_title(\"True Positive\")\n",
    "\n",
    "labels.insert(0,\"None\")\n",
    "ax3.set_xticklabels(labels) \n",
    "ax4.set_xticklabels(labels)\n",
    "\n",
    "for labelax3,labelax4 in zip(ax3.get_xticklabels(),ax4.get_xticklabels()):\n",
    "    labelax3.set_rotation(90)\n",
    "    labelax4.set_rotation(90)\n",
    "        "
   ]
  },
  {
   "cell_type": "markdown",
   "metadata": {},
   "source": [
    "As we can see, the Extra Tree Classifier had more False Positives and less True Positives than the other classifier. In addition, Support Vector Classifier and the KNN Classifier had a lower accuracy with the Positive labelling. \n",
    "With the bias of the dataset so overly skewed to the negative values, being able to accurately predict the positive values is a factor that I deem higher than being able to predict a negative value. \n",
    "Therefore, I will do further analysis on both the Random Forest and Neural Network to find out the most suitable model and whether I can improve the accuracy by optimising the classifiers.\n",
    "To get a more detailed assessment of the models, I will use the cross validated data to assess the models.\n"
   ]
  },
  {
   "cell_type": "code",
   "execution_count": 54,
   "metadata": {},
   "outputs": [],
   "source": [
    "clf = [\n",
    "    RandomForestClassifier(100),\n",
    "    MLPClassifier(max_iter=200)\n",
    "]\n",
    "\n",
    "\n",
    "alo1 = []\n",
    "acc_score = []\n",
    "for model in clf : \n",
    "    cross_val = np.mean(cross_val_score(model, features, label_df, cv=10))\n",
    "    name = model.__class__.__name__\n",
    "    alo1.append(name)\n",
    "    acc_score.append(cross_val)\n",
    "    \n",
    "    \n"
   ]
  },
  {
   "cell_type": "code",
   "execution_count": 55,
   "metadata": {},
   "outputs": [
    {
     "data": {
      "image/png": "[encoded data removed]",
      "text/plain": [
       "<Figure size 720x720 with 1 Axes>"
      ]
     },
     "metadata": {
      "needs_background": "light"
     },
     "output_type": "display_data"
    }
   ],
   "source": [
    "\n",
    "fig, ax = plt.subplots(figsize=(10,10))\n",
    "for i in range(1,len(acc_score)+1):\n",
    "    ax.bar(alo1[i-1], acc_score[i-1])\n",
    "\n",
    "for index in range(1,len(alo1)+1):\n",
    "    ax.text(index-1 , acc_score[index-1]+0.02, \"{:.2f}\".format(acc_score[index-1]))\n",
    "    \n"
   ]
  },
  {
   "cell_type": "markdown",
   "metadata": {},
   "source": [
    "Both classifiers do equally well with the cross validated data. "
   ]
  },
  {
   "cell_type": "markdown",
   "metadata": {},
   "source": [
    "<h1>Optimising the selected machine learning algorithm </h1>"
   ]
  },
  {
   "cell_type": "markdown",
   "metadata": {},
   "source": [
    "To optimise the machine learning algorithm, a dictionary was created with multiple parameters for the algorithm."
   ]
  },
  {
   "cell_type": "code",
   "execution_count": 56,
   "metadata": {},
   "outputs": [],
   "source": [
    "from pprint import pprint\n",
    "from sklearn.model_selection import RandomizedSearchCV\n",
    "\n",
    "\n",
    "# Number of trees in random forest\n",
    "n_estimators = [int(x) for x in np.linspace(start = 200, stop = 2000, num = 10)]\n",
    "# Number of features to consider at every split\n",
    "max_features = ['auto', 'sqrt']\n",
    "# Maximum number of levels in tree\n",
    "max_depth = [int(x) for x in np.linspace(10, 110, num = 11)]\n",
    "max_depth.append(None)\n",
    "# Minimum number of samples required to split a node\n",
    "min_samples_split = [2, 5, 10]\n",
    "# Minimum number of samples required at each leaf node\n",
    "min_samples_leaf = [1, 2, 4]\n",
    "# Method of selecting samples for training each tree\n",
    "bootstrap = [True, False]\n",
    "\n",
    "\n",
    "random_grid = {'n_estimators': n_estimators,\n",
    "               'max_features': max_features,\n",
    "               'max_depth': max_depth,\n",
    "               'min_samples_split': min_samples_split,\n",
    "               'min_samples_leaf': min_samples_leaf,\n",
    "               'bootstrap': bootstrap}\n",
    "\n"
   ]
  },
  {
   "cell_type": "markdown",
   "metadata": {},
   "source": [
    "The RandomizedSearchCV method was used to use cross-validated data to search over the parameter settings in the dictionary for the most effective parameters for the machine learning algorithm . "
   ]
  },
  {
   "cell_type": "code",
   "execution_count": 57,
   "metadata": {},
   "outputs": [
    {
     "name": "stdout",
     "output_type": "stream",
     "text": [
      "Fitting 3 folds for each of 100 candidates, totalling 300 fits\n"
     ]
    },
    {
     "name": "stderr",
     "output_type": "stream",
     "text": [
      "[Parallel(n_jobs=-1)]: Using backend LokyBackend with 4 concurrent workers.\n",
      "[Parallel(n_jobs=-1)]: Done  33 tasks      | elapsed: 13.4min\n",
      "[Parallel(n_jobs=-1)]: Done 154 tasks      | elapsed: 60.4min\n",
      "[Parallel(n_jobs=-1)]: Done 300 out of 300 | elapsed: 107.3min finished\n"
     ]
    },
    {
     "data": {
      "text/plain": [
       "RandomizedSearchCV(cv=3, error_score='raise-deprecating',\n",
       "          estimator=RandomForestClassifier(bootstrap=True, class_weight=None, criterion='gini',\n",
       "            max_depth=None, max_features='auto', max_leaf_nodes=None,\n",
       "            min_impurity_decrease=0.0, min_impurity_split=None,\n",
       "            min_samples_leaf=1, min_samples_split=2,\n",
       "            min_weight_fraction_leaf=0.0, n_estimators='warn', n_jobs=None,\n",
       "            oob_score=False, random_state=None, verbose=0,\n",
       "            warm_start=False),\n",
       "          fit_params=None, iid='warn', n_iter=100, n_jobs=-1,\n",
       "          param_distributions={'n_estimators': [200, 400, 600, 800, 1000, 1200, 1400, 1600, 1800, 2000], 'max_features': ['auto', 'sqrt'], 'max_depth': [10, 20, 30, 40, 50, 60, 70, 80, 90, 100, 110, None], 'min_samples_split': [2, 5, 10], 'min_samples_leaf': [1, 2, 4], 'bootstrap': [True, False]},\n",
       "          pre_dispatch='2*n_jobs', random_state=42, refit=True,\n",
       "          return_train_score='warn', scoring=None, verbose=2)"
      ]
     },
     "execution_count": 57,
     "metadata": {},
     "output_type": "execute_result"
    }
   ],
   "source": [
    "from sklearn.model_selection import RandomizedSearchCV\n",
    "rf = RandomForestClassifier()\n",
    "\n",
    "rf_random = RandomizedSearchCV(estimator = rf, param_distributions = random_grid, n_iter = 100, cv = 3, verbose=2, random_state=42, n_jobs = -1)\n",
    "\n",
    "# Fit the random search model\n",
    "rf_random.fit(features, label_df)\n",
    "\n"
   ]
  },
  {
   "cell_type": "markdown",
   "metadata": {},
   "source": [
    "The results of the search allows us to display the more effective settings for our machine algorithm. "
   ]
  },
  {
   "cell_type": "code",
   "execution_count": 58,
   "metadata": {},
   "outputs": [
    {
     "data": {
      "text/plain": [
       "{'n_estimators': 2000,\n",
       " 'min_samples_split': 2,\n",
       " 'min_samples_leaf': 4,\n",
       " 'max_features': 'auto',\n",
       " 'max_depth': 30,\n",
       " 'bootstrap': False}"
      ]
     },
     "execution_count": 58,
     "metadata": {},
     "output_type": "execute_result"
    }
   ],
   "source": [
    "rf_random.best_params_"
   ]
  },
  {
   "cell_type": "markdown",
   "metadata": {},
   "source": [
    "These parameters can then be applied to the machine learning algorithm."
   ]
  },
  {
   "cell_type": "code",
   "execution_count": 59,
   "metadata": {},
   "outputs": [],
   "source": [
    "clf = RandomForestClassifier(n_estimators = 2000,\n",
    " min_samples_split = 2,\n",
    " min_samples_leaf = 4,\n",
    " max_features =\"auto\",\n",
    " max_depth = 30,\n",
    " bootstrap =False) \n",
    "\n",
    "forest_cross_val = np.mean(cross_val_score(clf, features, label_df, cv=10))\n",
    "\n",
    "                        "
   ]
  },
  {
   "cell_type": "markdown",
   "metadata": {},
   "source": [
    "When the new algorithm is then tested on the data. We can see that accuracy of the algorithm increase by 0.02 %.\n"
   ]
  },
  {
   "cell_type": "code",
   "execution_count": 60,
   "metadata": {},
   "outputs": [
    {
     "name": "stdout",
     "output_type": "stream",
     "text": [
      "The New acc Rating for Random Forest Model is :  \n",
      "0.86\n"
     ]
    }
   ],
   "source": [
    "print(\"The New acc Rating for Random Forest Model is :  \")\n",
    "print(\"{:.2f}\".format(forest_cross_val))"
   ]
  },
  {
   "cell_type": "markdown",
   "metadata": {},
   "source": [
    "<h1> Creating the GUI</h1>"
   ]
  },
  {
   "cell_type": "markdown",
   "metadata": {},
   "source": [
    "To use the model in a GUI, the model needs to be saved. To do this, we import the pickle library and save the model that we have just created. We can then load it up in a new script to be used in our GUI program."
   ]
  },
  {
   "cell_type": "code",
   "execution_count": 80,
   "metadata": {},
   "outputs": [],
   "source": [
    "import pickle\n",
    "\n",
    "with open('rf_classifier_salary.pkl', 'wb') as fid:\n",
    "    pickle.dump(rf_random, fid) \n",
    "    "
   ]
  }
 ],
 "metadata": {
  "kernelspec": {
   "display_name": "Python 3",
   "language": "python",
   "name": "python3"
  },
  "language_info": {
   "codemirror_mode": {
    "name": "ipython",
    "version": 3
   },
   "file_extension": ".py",
   "mimetype": "text/x-python",
   "name": "python",
   "nbconvert_exporter": "python",
   "pygments_lexer": "ipython3",
   "version": "3.7.1"
  }
 },
 "nbformat": 4,
 "nbformat_minor": 2
}
